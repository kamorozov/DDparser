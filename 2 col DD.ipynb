{
 "cells": [
  {
   "cell_type": "code",
   "execution_count": 4,
   "metadata": {
    "scrolled": true
   },
   "outputs": [],
   "source": [
    "import xlrd\n",
    "import xlsxwriter"
   ]
  },
  {
   "cell_type": "markdown",
   "metadata": {},
   "source": [
    "# open the file for reading\n",
    "wbRD = xlrd.open_workbook('DD_Summary_Basic.xlsx')\n",
    "sheets = wbRD.sheets()\n",
    "\n",
    "# open the same file for writing (just don't write yet)\n",
    "workbook = xlsxwriter.Workbook(result_xlsx)\n",
    "\n",
    "# run through the sheets and store sheets in workbook\n",
    "# this still doesn't write to the file yet\n",
    "for sheet in sheets: # write data from old file\n",
    "    newSheet = workbook.add_worksheet(sheet.name)\n",
    "    for row in range(sheet.nrows):\n",
    "        for col in range(sheet.ncols):\n",
    "            newSheet.write(row, col, sheet.cell(row, col).value)"
   ]
  },
  {
   "cell_type": "code",
   "execution_count": 24,
   "metadata": {},
   "outputs": [],
   "source": [
    "wbRD_col2 = xlrd.open_workbook('C:/Users/mrbon/Google Диск/Диссертация/Расчеты/Парафины 5-8/DD_09.11.2017/DD_col_2.xlsx')\n",
    "sheets = wbRD_col2.sheets()\n",
    "\n",
    "workbook = xlsxwriter.Workbook('C:/Users/mrbon/Google Диск/Диссертация/Расчеты/Парафины 5-8/DD_09.11.2017/summary_DD_col_2.xlsx')\n",
    "\n",
    "sum_sheet = workbook.add_worksheet('Summary')\n",
    "\n",
    "for col in range(0 ,8):\n",
    "    sum_sheet.write(0, col, sheets[0].cell(0, col).value)\n",
    "\n",
    "for col in range(0, 8):\n",
    "    new_row = 1\n",
    "    for row in range(1, sheets[0].nrows, 4):\n",
    "        sum_sheet.write(new_row, col, sheets[0].cell(row, col).value)\n",
    "        sum_sheet.write(new_row + 1, col, sheets[0].cell(row + 1, col).value)\n",
    "        sum_sheet.write(new_row + 2, col, sheets[0].cell(row + 2, col).value)\n",
    "        sum_sheet.write(new_row + 3, col, sheets[0].cell(row + 3, col).value)\n",
    "        new_row += 5\n",
    "    new_row_2 = 5\n",
    "    for row in range(1, sheets[1].nrows):\n",
    "        sum_sheet.write(new_row_2, col, sheets[1].cell(row, col).value)\n",
    "        new_row_2 += 5\n",
    "workbook.close()"
   ]
  },
  {
   "cell_type": "code",
   "execution_count": null,
   "metadata": {},
   "outputs": [],
   "source": []
  },
  {
   "cell_type": "code",
   "execution_count": null,
   "metadata": {
    "collapsed": true
   },
   "outputs": [],
   "source": []
  }
 ],
 "metadata": {
  "kernelspec": {
   "display_name": "Python 3",
   "language": "python",
   "name": "python3"
  },
  "language_info": {
   "codemirror_mode": {
    "name": "ipython",
    "version": 3
   },
   "file_extension": ".py",
   "mimetype": "text/x-python",
   "name": "python",
   "nbconvert_exporter": "python",
   "pygments_lexer": "ipython3",
   "version": "3.6.2"
  }
 },
 "nbformat": 4,
 "nbformat_minor": 2
}
